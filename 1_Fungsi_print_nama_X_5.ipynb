{
  "nbformat": 4,
  "nbformat_minor": 0,
  "metadata": {
    "colab": {
      "provenance": [],
      "authorship_tag": "ABX9TyNq8IMJ/Dutb85WPpi6FTsK",
      "include_colab_link": true
    },
    "kernelspec": {
      "name": "python3",
      "display_name": "Python 3"
    },
    "language_info": {
      "name": "python"
    }
  },
  "cells": [
    {
      "cell_type": "markdown",
      "metadata": {
        "id": "view-in-github",
        "colab_type": "text"
      },
      "source": [
        "<a href=\"https://colab.research.google.com/github/adzroulayaqoiftaputriii2025-rgb/KKA-X-Semester-1/blob/main/1_Fungsi_print_nama_X_5.ipynb\" target=\"_parent\"><img src=\"https://colab.research.google.com/assets/colab-badge.svg\" alt=\"Open In Colab\"/></a>"
      ]
    },
    {
      "cell_type": "markdown",
      "source": [
        "#1. Menampilkan Teks Bebas"
      ],
      "metadata": {
        "id": "iv-DNtUvfjbo"
      }
    },
    {
      "cell_type": "code",
      "source": [
        "print(\"Hello world!\")"
      ],
      "metadata": {
        "colab": {
          "base_uri": "https://localhost:8080/"
        },
        "id": "dhzye_CMftDs",
        "outputId": "7b96540e-aa80-4803-8761-f80100fc646b"
      },
      "execution_count": null,
      "outputs": [
        {
          "output_type": "stream",
          "name": "stdout",
          "text": [
            "Hello world!\n"
          ]
        }
      ]
    },
    {
      "cell_type": "code",
      "source": [
        "print(\"Adzro Ulaya Qoifta Putri\")"
      ],
      "metadata": {
        "colab": {
          "base_uri": "https://localhost:8080/"
        },
        "id": "K7a7hl4Fihrs",
        "outputId": "4f35e7d5-4c2d-43db-e12a-35681c6e38d4"
      },
      "execution_count": null,
      "outputs": [
        {
          "output_type": "stream",
          "name": "stdout",
          "text": [
            "Adzro Ulaya Qoifta Putri\n"
          ]
        }
      ]
    },
    {
      "cell_type": "markdown",
      "source": [
        "#2. Menampilkan Nilai Variabel"
      ],
      "metadata": {
        "id": "MKlnmihokFM-"
      }
    },
    {
      "cell_type": "code",
      "source": [
        "beratbadan = 55\n",
        "print(beratbadan)"
      ],
      "metadata": {
        "colab": {
          "base_uri": "https://localhost:8080/"
        },
        "id": "HwcsJtQvlHX6",
        "outputId": "6b7720b6-bb99-4de4-8301-bd270b0fed5a"
      },
      "execution_count": null,
      "outputs": [
        {
          "output_type": "stream",
          "name": "stdout",
          "text": [
            "55\n"
          ]
        }
      ]
    },
    {
      "cell_type": "code",
      "source": [
        "tinggibadan = 157\n",
        "print(tinggibadan)"
      ],
      "metadata": {
        "colab": {
          "base_uri": "https://localhost:8080/"
        },
        "id": "AYrUuznFmkts",
        "outputId": "4e8da229-4c96-4bd6-baa7-08e68a0e295a"
      },
      "execution_count": null,
      "outputs": [
        {
          "output_type": "stream",
          "name": "stdout",
          "text": [
            "157\n"
          ]
        }
      ]
    },
    {
      "cell_type": "code",
      "source": [
        "Nama =\"Adzro Ulaya Qoifta Putri \"\n",
        "print (Nama)"
      ],
      "metadata": {
        "colab": {
          "base_uri": "https://localhost:8080/"
        },
        "id": "l9vDrQ0InTD0",
        "outputId": "5fcaaa72-d3ef-4c07-bbae-52ca540d33dd"
      },
      "execution_count": null,
      "outputs": [
        {
          "output_type": "stream",
          "name": "stdout",
          "text": [
            "Adzro Ulaya Qoifta Putri \n"
          ]
        }
      ]
    },
    {
      "cell_type": "code",
      "source": [
        "namaidola = \"songzu'er\"\n",
        "print (namaidola)"
      ],
      "metadata": {
        "colab": {
          "base_uri": "https://localhost:8080/"
        },
        "id": "KEe5fbN0nWqo",
        "outputId": "ce95ea78-9c63-4598-dcf4-0d9a67e0fae0"
      },
      "execution_count": null,
      "outputs": [
        {
          "output_type": "stream",
          "name": "stdout",
          "text": [
            "songzu'er\n"
          ]
        }
      ]
    },
    {
      "cell_type": "markdown",
      "source": [
        "#3. Menampilkan Teks Bebas dan Nilai Variabel"
      ],
      "metadata": {
        "id": "jeMEApPdldJc"
      }
    },
    {
      "cell_type": "code",
      "source": [
        "print (\"Hallo nama saya\", Nama,\". Berat badan saya\",beratbadan,\"Kg.\")"
      ],
      "metadata": {
        "colab": {
          "base_uri": "https://localhost:8080/"
        },
        "id": "qoe7yUIzl3ft",
        "outputId": "a88b513f-6a4c-4c93-e5c9-7cc838440328"
      },
      "execution_count": null,
      "outputs": [
        {
          "output_type": "stream",
          "name": "stdout",
          "text": [
            "Hallo nama saya Adzro Ulaya Qoifta Putri  . Berat badan saya 55 Kg.\n"
          ]
        }
      ]
    },
    {
      "cell_type": "code",
      "source": [
        "print(\"Hallo nama saya \" + Nama+\". Berat badan saya \"+str(beratbadan)+\"kg.\")"
      ],
      "metadata": {
        "colab": {
          "base_uri": "https://localhost:8080/"
        },
        "id": "_FF3EFlUmbJJ",
        "outputId": "f92943ef-3f2a-43a4-e564-5346d958c7f1"
      },
      "execution_count": null,
      "outputs": [
        {
          "output_type": "stream",
          "name": "stdout",
          "text": [
            "Hallo nama saya Adzro Ulaya Qoifta Putri . Berat badan saya 55kg.\n"
          ]
        }
      ]
    },
    {
      "cell_type": "code",
      "source": [
        "print(f\"Hallo nama saya {Nama}. Berat badan saya {beratbadan} kg.\")"
      ],
      "metadata": {
        "colab": {
          "base_uri": "https://localhost:8080/"
        },
        "id": "uscCCWFtm6rL",
        "outputId": "ca3381fb-dae7-4a7a-eefe-4a972cd0a572"
      },
      "execution_count": null,
      "outputs": [
        {
          "output_type": "stream",
          "name": "stdout",
          "text": [
            "Hallo nama saya Adzro Ulaya Qoifta Putri . Berat badan saya 55 kg.\n"
          ]
        }
      ]
    },
    {
      "cell_type": "markdown",
      "source": [
        "#4. Escape Character"
      ],
      "metadata": {
        "id": "lE7voFFW3Lx-"
      }
    },
    {
      "cell_type": "code",
      "source": [
        "print(\"Nama: Adzro Ulaya Qoifta Putri\")\n",
        "print(\"Kelas: X-5\")\n",
        "print(\"No. Absen: 3\")"
      ],
      "metadata": {
        "id": "--lwIAMWOhvO",
        "colab": {
          "base_uri": "https://localhost:8080/"
        },
        "outputId": "b6208df1-0c91-458a-ee06-0850f3591986"
      },
      "execution_count": null,
      "outputs": [
        {
          "output_type": "stream",
          "name": "stdout",
          "text": [
            "Nama: Adzro Ulaya Qoifta Putri\n",
            "Kelas: X-5\n",
            "No. Absen: 3\n"
          ]
        }
      ]
    },
    {
      "cell_type": "code",
      "source": [
        "print(\"Nama: Adzro Ulaya Qoifta Putri\\nKelas: X-5\\nNo. Absen: 3\")"
      ],
      "metadata": {
        "colab": {
          "base_uri": "https://localhost:8080/"
        },
        "id": "ou9Vu8yR3SoF",
        "outputId": "338b0b17-98eb-46e8-a117-39fd04c534ee"
      },
      "execution_count": null,
      "outputs": [
        {
          "output_type": "stream",
          "name": "stdout",
          "text": [
            "Nama: Adzro Ulaya Qoifta Putri\n",
            "Kelas: X-5\n",
            "No. Absen: 3\n"
          ]
        }
      ]
    },
    {
      "cell_type": "code",
      "source": [
        "print(\"\"\"Nama\\t\\t: Adzro Ulaya Qoifta Putri\n",
        "Kelas\\t\\t: X-5\n",
        "No. Absen\\t: 3\"\"\")"
      ],
      "metadata": {
        "colab": {
          "base_uri": "https://localhost:8080/"
        },
        "id": "Gaf92Iur3mYx",
        "outputId": "6879eb6d-625c-4cf2-ea11-2d874bf1fd65"
      },
      "execution_count": null,
      "outputs": [
        {
          "output_type": "stream",
          "name": "stdout",
          "text": [
            "Nama\t\t: Adzro Ulaya Qoifta Putri\n",
            "Kelas\t\t: X-5\n",
            "No. Absen\t: 3\n"
          ]
        }
      ]
    },
    {
      "cell_type": "code",
      "source": [
        "print('Nama Saya Ja\\'far Shodiq')"
      ],
      "metadata": {
        "colab": {
          "base_uri": "https://localhost:8080/"
        },
        "id": "sxuPUNr235xC",
        "outputId": "3e271bce-f56f-4884-a8c3-964d96541bc0"
      },
      "execution_count": null,
      "outputs": [
        {
          "output_type": "stream",
          "name": "stdout",
          "text": [
            "Nama Saya Ja'far Shodiq\n"
          ]
        }
      ]
    },
    {
      "cell_type": "code",
      "source": [
        "print(\"Nama Saya Ja'far Shodiq\")"
      ],
      "metadata": {
        "colab": {
          "base_uri": "https://localhost:8080/"
        },
        "id": "xi1Hvd_w4B__",
        "outputId": "1135975e-b6e6-4b33-cde0-b4415276cbdc"
      },
      "execution_count": null,
      "outputs": [
        {
          "output_type": "stream",
          "name": "stdout",
          "text": [
            "Nama Saya Ja'far Shodiq\n"
          ]
        }
      ]
    },
    {
      "cell_type": "code",
      "source": [
        "print(\"Nama Saya Ja\\'far Shodiq\")"
      ],
      "metadata": {
        "colab": {
          "base_uri": "https://localhost:8080/"
        },
        "id": "_a5UYi7x4Gmp",
        "outputId": "47917f02-9345-4a79-feb9-a5311e4409e4"
      },
      "execution_count": null,
      "outputs": [
        {
          "output_type": "stream",
          "name": "stdout",
          "text": [
            "Nama Saya Ja'far Shodiq\n"
          ]
        }
      ]
    },
    {
      "cell_type": "code",
      "source": [
        "print('Bu Shinta berkata, \"Tolong perhatikan TV dan Saya.\"')"
      ],
      "metadata": {
        "colab": {
          "base_uri": "https://localhost:8080/"
        },
        "id": "sB57pxzs4NMJ",
        "outputId": "1634bf8a-4f22-48b2-c38b-fd5836bb1934"
      },
      "execution_count": null,
      "outputs": [
        {
          "output_type": "stream",
          "name": "stdout",
          "text": [
            "Bu Shinta berkata, \"Tolong perhatikan TV dan Saya.\"\n"
          ]
        }
      ]
    },
    {
      "cell_type": "code",
      "source": [
        "print(\"Bu Shinta berkata, \\\"Tolong perhatikan TV dan Saya.\\\"\")"
      ],
      "metadata": {
        "colab": {
          "base_uri": "https://localhost:8080/"
        },
        "id": "RDpWfTvr4SB2",
        "outputId": "a88f14c3-7255-47df-c07b-7d9084b913f1"
      },
      "execution_count": null,
      "outputs": [
        {
          "output_type": "stream",
          "name": "stdout",
          "text": [
            "Bu Shinta berkata, \"Tolong perhatikan TV dan Saya.\"\n"
          ]
        }
      ]
    },
    {
      "cell_type": "code",
      "source": [
        "print(\"Lokasi file tugas KKA adalah di Local Disk C:\\\\KKA\\\\Tugas\")"
      ],
      "metadata": {
        "colab": {
          "base_uri": "https://localhost:8080/"
        },
        "id": "XCG0LnaW4YfU",
        "outputId": "e749303b-7455-412a-ad84-a3e834b64d83"
      },
      "execution_count": null,
      "outputs": [
        {
          "output_type": "stream",
          "name": "stdout",
          "text": [
            "Lokasi file tugas KKA adalah di Local Disk C:\\KKA\\Tugas\n"
          ]
        }
      ]
    },
    {
      "cell_type": "code",
      "source": [
        "print('''Bu Shinta berkata, \"Berikut adalah daftar piket harian kelas X.5\n",
        "yang disimpan di file D:\\\\MAN Demak\\\\Jadwal Piket.\".''')\n",
        "print(\"\\nSenin\\tSelasa\\tRabu\\nJielo\\tHasbi\\tNaufal\\nAzzam\\tAida\\tA'inun\")"
      ],
      "metadata": {
        "colab": {
          "base_uri": "https://localhost:8080/"
        },
        "id": "Tvz0dT5R6Igo",
        "outputId": "34180643-e2c6-47bf-ca32-c5a2875a2cb8"
      },
      "execution_count": null,
      "outputs": [
        {
          "output_type": "stream",
          "name": "stdout",
          "text": [
            "Bu Shinta berkata, \"Berikut adalah daftar piket harian kelas X.5\n",
            "yang disimpan di file D:\\MAN Demak\\Jadwal Piket.\".\n",
            "\n",
            "Senin\tSelasa\tRabu\n",
            "Jielo\tHasbi\tNaufal\n",
            "Azzam\tAida\tA'inun\n"
          ]
        }
      ]
    },
    {
      "cell_type": "markdown",
      "source": [
        "#5. PARAMETER FUNGSI PRINT"
      ],
      "metadata": {
        "id": "BCdUZJ93pGmk"
      }
    },
    {
      "cell_type": "code",
      "source": [
        "nama_siswa_1 = \"Jielo\"\n",
        "nama_siswa_2 = \"Aida\"\n",
        "nama_siswa_3 = \"Dani\"\n",
        "nama_siswa_4 = \"Nurul\"\n",
        "\n",
        "print(nama_siswa_4, end=\"/\")\n",
        "print(nama_siswa_2, end=\"/\")\n",
        "print(nama_siswa_1, end=\"/\")\n",
        "print(nama_siswa_3)"
      ],
      "metadata": {
        "colab": {
          "base_uri": "https://localhost:8080/"
        },
        "id": "9BSu01EvpBgp",
        "outputId": "1831b635-db32-482d-fa63-7dfa9b6f34ce"
      },
      "execution_count": null,
      "outputs": [
        {
          "output_type": "stream",
          "name": "stdout",
          "text": [
            "Nurul/Aida/Jielo/Dani\n"
          ]
        }
      ]
    },
    {
      "cell_type": "code",
      "source": [
        "nama_siswa_5 = \"Hasbi\"\n",
        "nama_siswa_6 = \"Habibi\"\n",
        "nama_siswa_7 = \"Rendra\"\n",
        "nama_siswa_8 = \"Naufal\"\n",
        "\n",
        "print(nama_siswa_5, nama_siswa_8, nama_siswa_7, nama_siswa_6, nama_siswa_8, sep=\"*\")\n",
        "print(nama_siswa_7, nama_siswa_6, nama_siswa_5, nama_siswa_6,nama_siswa_6, sep=\"-\")"
      ],
      "metadata": {
        "colab": {
          "base_uri": "https://localhost:8080/"
        },
        "id": "n26AL0UlpXpS",
        "outputId": "227e5cfa-8e03-4868-9a17-977604b73781"
      },
      "execution_count": null,
      "outputs": [
        {
          "output_type": "stream",
          "name": "stdout",
          "text": [
            "Hasbi*Naufal*Rendra*Habibi*Naufal\n",
            "Rendra-Habibi-Hasbi-Habibi-Habibi\n"
          ]
        }
      ]
    }
  ]
}